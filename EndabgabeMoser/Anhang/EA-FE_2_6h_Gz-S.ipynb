{
 "cells": [
  {
   "cell_type": "markdown",
   "metadata": {},
   "source": [
    "# Auswahl\n",
    "\n",
    "Stationen: ['Graz-DB', 'Graz-M G', 'Graz-S', 'Graz-O P', 'Graz-N', 'Graz-W','Lustb',]\n",
    "\n",
    "Features: ['Druck', 'Nierschlag', 'Globalstrahlung', 'Zeit',\n",
    "       'Wind_Mittel', 'Wind_Max', 'Day sin', 'Day cos', 'Year sin',\n",
    "       'Year cos']"
   ]
  },
  {
   "cell_type": "code",
   "execution_count": 29,
   "metadata": {},
   "outputs": [],
   "source": [
    "Ziel = 'Graz-S'\n",
    "Features = []\n",
    "Stunden = 6"
   ]
  },
  {
   "cell_type": "markdown",
   "metadata": {
    "id": "XVhK72Pu1cJL"
   },
   "source": [
    "# Import"
   ]
  },
  {
   "cell_type": "code",
   "execution_count": 31,
   "metadata": {
    "id": "7rZnJaGTWQw0"
   },
   "outputs": [],
   "source": [
    "import os\n",
    "import datetime\n",
    "\n",
    "import IPython\n",
    "import IPython.display\n",
    "import matplotlib as mpl\n",
    "import matplotlib.pyplot as plt\n",
    "import numpy as np\n",
    "import pandas as pd\n",
    "import seaborn as sns\n",
    "import tensorflow as tf\n",
    "\n",
    "import pymongo\n",
    "\n",
    "mpl.rcParams['figure.figsize'] = (8, 6)\n",
    "mpl.rcParams['axes.grid'] = False"
   ]
  },
  {
   "cell_type": "markdown",
   "metadata": {
    "id": "XVhK72Pu1cJL"
   },
   "source": [
    "# Daten laden"
   ]
  },
  {
   "cell_type": "markdown",
   "metadata": {},
   "source": [
    "## Daten in DB laden"
   ]
  },
  {
   "cell_type": "code",
   "execution_count": 33,
   "metadata": {},
   "outputs": [],
   "source": [
    "conn = pymongo.MongoClient('localhost', 27017)\n",
    "collection_engineered = conn['testPMP']['engineered']"
   ]
  },
  {
   "cell_type": "code",
   "execution_count": 34,
   "metadata": {},
   "outputs": [],
   "source": [
    "# laden\n",
    "exclude_data = {'_id': False}\n",
    "raw_engineered = list(collection_engineered.find({}, projection=exclude_data))\n",
    "df = pd.DataFrame(raw_engineered)"
   ]
  },
  {
   "cell_type": "markdown",
   "metadata": {},
   "source": [
    "## Auswahl Daten"
   ]
  },
  {
   "cell_type": "code",
   "execution_count": 35,
   "metadata": {},
   "outputs": [],
   "source": [
    "pms = ['Graz-DB', 'Graz-M G', 'Graz-S', 'Graz-O P', 'Graz-N', 'Graz-W',\n",
    "       'Lustb']\n",
    "pms.remove(Ziel)\n",
    "maxs = ['Graz-S_Max', 'Graz-N_Max', 'Graz-W_Max']\n",
    "maxs.remove(Ziel+'_Max')\n",
    "mittels = ['Graz-S_Mittel', 'Graz-N_Mittel',\n",
    "       'Graz-W_Mittel']\n",
    "mittels.remove(Ziel+'_Mittel')\n",
    "temps = ['Graz-DB_Temp',\n",
    "       'Graz-M G_Temp', 'Graz-S_Temp', 'Graz-O P_Temp', 'Graz-N_Temp',\n",
    "       'Graz-W_Temp']\n",
    "temps.remove(Ziel+'_Temp')\n",
    "\n",
    "allfeatures =  ['Druck', 'Nierschlag', 'Globalstrahlung', 'Zeit', 'Day sin', \n",
    "                'Day cos', 'Year sin', 'Year cos', \n",
    "                Ziel+'_Max', Ziel+'_Mittel', Ziel+'_Temp']\n",
    "\n",
    "df = df.drop(columns = pms)\n",
    "df = df.drop(columns = maxs)\n",
    "df = df.drop(columns = mittels)\n",
    "df = df.drop(columns = temps)\n",
    "\n",
    "df = df.drop(columns = [x for x in allfeatures if x not in Features])"
   ]
  },
  {
   "cell_type": "code",
   "execution_count": 36,
   "metadata": {},
   "outputs": [
    {
     "data": {
      "text/html": [
       "<div>\n",
       "<style scoped>\n",
       "    .dataframe tbody tr th:only-of-type {\n",
       "        vertical-align: middle;\n",
       "    }\n",
       "\n",
       "    .dataframe tbody tr th {\n",
       "        vertical-align: top;\n",
       "    }\n",
       "\n",
       "    .dataframe thead th {\n",
       "        text-align: right;\n",
       "    }\n",
       "</style>\n",
       "<table border=\"1\" class=\"dataframe\">\n",
       "  <thead>\n",
       "    <tr style=\"text-align: right;\">\n",
       "      <th></th>\n",
       "      <th>Graz-S</th>\n",
       "    </tr>\n",
       "  </thead>\n",
       "  <tbody>\n",
       "    <tr>\n",
       "      <th>Graz-S</th>\n",
       "      <td>1.0</td>\n",
       "    </tr>\n",
       "  </tbody>\n",
       "</table>\n",
       "</div>"
      ],
      "text/plain": [
       "        Graz-S\n",
       "Graz-S     1.0"
      ]
     },
     "execution_count": 36,
     "metadata": {},
     "output_type": "execute_result"
    }
   ],
   "source": [
    "df.corr()"
   ]
  },
  {
   "cell_type": "markdown",
   "metadata": {},
   "source": [
    "### Daten weglassen\n",
    "\n",
    "Wind_max -> wind_mittel  _> Globalstrahlung "
   ]
  },
  {
   "cell_type": "code",
   "execution_count": 37,
   "metadata": {},
   "outputs": [
    {
     "data": {
      "text/html": [
       "<div>\n",
       "<style scoped>\n",
       "    .dataframe tbody tr th:only-of-type {\n",
       "        vertical-align: middle;\n",
       "    }\n",
       "\n",
       "    .dataframe tbody tr th {\n",
       "        vertical-align: top;\n",
       "    }\n",
       "\n",
       "    .dataframe thead th {\n",
       "        text-align: right;\n",
       "    }\n",
       "</style>\n",
       "<table border=\"1\" class=\"dataframe\">\n",
       "  <thead>\n",
       "    <tr style=\"text-align: right;\">\n",
       "      <th></th>\n",
       "      <th>Graz-S</th>\n",
       "    </tr>\n",
       "  </thead>\n",
       "  <tbody>\n",
       "    <tr>\n",
       "      <th>Graz-S</th>\n",
       "      <td>1.0</td>\n",
       "    </tr>\n",
       "  </tbody>\n",
       "</table>\n",
       "</div>"
      ],
      "text/plain": [
       "        Graz-S\n",
       "Graz-S     1.0"
      ]
     },
     "execution_count": 37,
     "metadata": {},
     "output_type": "execute_result"
    }
   ],
   "source": [
    "df = df.drop(columns=[])\n",
    "df.corr()"
   ]
  },
  {
   "cell_type": "code",
   "execution_count": 38,
   "metadata": {},
   "outputs": [],
   "source": [
    "name = '2_L:' + Ziel + '__'+ '_'.join([str(elem) for elem in df.columns]) "
   ]
  },
  {
   "cell_type": "markdown",
   "metadata": {},
   "source": [
    "## Teilen in Trainings-, Validierungs und Testdaten"
   ]
  },
  {
   "cell_type": "code",
   "execution_count": 39,
   "metadata": {
    "id": "ia-MPAHxbInX"
   },
   "outputs": [],
   "source": [
    "column_indices = {name: i for i, name in enumerate(df.columns)}\n",
    "\n",
    "n = len(df)\n",
    "train_df = df[0:int(n*0.7)]\n",
    "val_df = df[int(n*0.7):int(n*0.9)]\n",
    "test_df = df[int(n*0.9):]\n",
    "\n",
    "num_features = df.shape[1]"
   ]
  },
  {
   "cell_type": "markdown",
   "metadata": {},
   "source": [
    "Speichern der Durchschnittswerte und Standardabweichungen für die Trainingsdaten: Zur Verwendung in der Runtime"
   ]
  },
  {
   "cell_type": "code",
   "execution_count": 40,
   "metadata": {},
   "outputs": [],
   "source": [
    "train_mean = train_df.mean()\n",
    "train_std = train_df.std()\n",
    "file1 = open(\"Train_Mean/FE_\" + name + \"__train_mean.txt\",\"w+\") \n",
    "file1.write(train_mean.to_string())\n",
    "file1.write('\\n')\n",
    "file1.write(train_std.to_string())\n",
    "file1.close()"
   ]
  },
  {
   "cell_type": "markdown",
   "metadata": {
    "id": "-eFckdUUHWmT"
   },
   "source": [
    "### Daten normalisieren\n",
    "\n",
    "Skalieren der Daten um Priorisierungsprobleme zu vermeiden und fehlende Werte durch 0 ersetzen."
   ]
  },
  {
   "cell_type": "code",
   "execution_count": 41,
   "metadata": {
    "id": "Eji6njXvHusN"
   },
   "outputs": [],
   "source": [
    "train_mean = train_df.mean()\n",
    "train_std = train_df.std()\n",
    "\n",
    "train_df = (train_df - train_mean) / train_std\n",
    "val_df = (val_df - train_mean) / train_std\n",
    "test_df = (test_df - train_mean) / train_std\n",
    "\n",
    "train_df = train_df.fillna(0)\n",
    "val_df = val_df.fillna(0)\n",
    "test_df = test_df.fillna(0)"
   ]
  },
  {
   "cell_type": "markdown",
   "metadata": {
    "id": "G6ufs8kk9JQw"
   },
   "source": [
    "Visualisierung der Daten in Abhängigkeit der Trainingsdaten"
   ]
  },
  {
   "cell_type": "code",
   "execution_count": 42,
   "metadata": {
    "id": "T0UYEnkwm8Fe"
   },
   "outputs": [
    {
     "data": {
      "image/png": "[encoded data removed]",
      "text/plain": [
       "<Figure size 864x432 with 1 Axes>"
      ]
     },
     "metadata": {
      "needs_background": "light"
     },
     "output_type": "display_data"
    }
   ],
   "source": [
    "df_std = (df - train_mean) / train_std\n",
    "df_std = df_std.melt(var_name='Column', value_name='Normalized')\n",
    "plt.figure(figsize=(12, 6))\n",
    "ax = sns.violinplot(x='Column', y='Normalized', data=df_std)\n",
    "_ = ax.set_xticklabels(df.keys(), rotation=90)"
   ]
  },
  {
   "cell_type": "markdown",
   "metadata": {},
   "source": [
    "nur wenige starke Ausreisser"
   ]
  },
  {
   "cell_type": "code",
   "execution_count": 43,
   "metadata": {},
   "outputs": [
    {
     "data": {
      "text/html": [
       "<div>\n",
       "<style scoped>\n",
       "    .dataframe tbody tr th:only-of-type {\n",
       "        vertical-align: middle;\n",
       "    }\n",
       "\n",
       "    .dataframe tbody tr th {\n",
       "        vertical-align: top;\n",
       "    }\n",
       "\n",
       "    .dataframe thead th {\n",
       "        text-align: right;\n",
       "    }\n",
       "</style>\n",
       "<table border=\"1\" class=\"dataframe\">\n",
       "  <thead>\n",
       "    <tr style=\"text-align: right;\">\n",
       "      <th></th>\n",
       "      <th>count</th>\n",
       "      <th>mean</th>\n",
       "      <th>std</th>\n",
       "      <th>min</th>\n",
       "      <th>25%</th>\n",
       "      <th>50%</th>\n",
       "      <th>75%</th>\n",
       "      <th>max</th>\n",
       "    </tr>\n",
       "  </thead>\n",
       "  <tbody>\n",
       "    <tr>\n",
       "      <th>Graz-S</th>\n",
       "      <td>87648.0</td>\n",
       "      <td>27.465753</td>\n",
       "      <td>21.11534</td>\n",
       "      <td>-2.7</td>\n",
       "      <td>13.6</td>\n",
       "      <td>21.6</td>\n",
       "      <td>35.0</td>\n",
       "      <td>494.4</td>\n",
       "    </tr>\n",
       "  </tbody>\n",
       "</table>\n",
       "</div>"
      ],
      "text/plain": [
       "          count       mean       std  min   25%   50%   75%    max\n",
       "Graz-S  87648.0  27.465753  21.11534 -2.7  13.6  21.6  35.0  494.4"
      ]
     },
     "execution_count": 43,
     "metadata": {},
     "output_type": "execute_result"
    }
   ],
   "source": [
    "df.describe().T"
   ]
  },
  {
   "cell_type": "markdown",
   "metadata": {
    "id": "ZBBmdxZ2HgfJ"
   },
   "source": [
    "# Trainingsvorbereitung\n",
    "\n"
   ]
  },
  {
   "cell_type": "markdown",
   "metadata": {},
   "source": [
    "\n",
    "## Data windowing\n",
    "\n",
    "Um Modelle mit unterschiedlichen Inputs (feature anzahl und sample anzahl) und Outputs (Vorhersagen für einen einzelnen Zeitpunkt oder Verläufe) erstellen zu können, muss man lediglich unterschiedliche Datenfenster erzeugen."
   ]
  },
  {
   "cell_type": "markdown",
   "metadata": {
    "id": "sa2BbfNZt8wy"
   },
   "source": [
    "Die Klasse `WindowGenerator` kann aus input länge, offset und output länge ein Datenfenster erzeugen, mit dem das gewünschte Modell trainiert werden kann.\n",
    "\n",
    "Sie generiert Beispielfenster und kann diese gemeinsam mit oder ohne den Vorhersagen eines Modells in einem Plot darstellen."
   ]
  },
  {
   "cell_type": "code",
   "execution_count": 44,
   "metadata": {
    "id": "Kem30j8QHxyW"
   },
   "outputs": [],
   "source": [
    "class WindowGenerator():\n",
    "    \n",
    "  @property\n",
    "  def train(self):\n",
    "    return self.make_dataset(self.train_df)\n",
    "  \n",
    "  @property\n",
    "  def val(self):\n",
    "    return self.make_dataset(self.val_df)\n",
    "  \n",
    "  @property\n",
    "  def test(self):\n",
    "    return self.make_dataset(self.test_df)\n",
    "  \n",
    "  @property\n",
    "  def example(self):\n",
    "    \"\"\"Get and cache an example batch of `inputs, labels` for plotting.\"\"\"\n",
    "    result = getattr(self, '_example', None)\n",
    "    if result is None:\n",
    "      # No example batch was found, so get one from the `.train` dataset\n",
    "      result = next(iter(self.train))\n",
    "      # And cache it for next time\n",
    "      self._example = result\n",
    "    return result\n",
    "\n",
    "  def __init__(self, input_width, label_width, shift,\n",
    "               train_df=train_df, val_df=val_df, test_df=test_df,\n",
    "               label_columns=None):\n",
    "    # Store the raw data.\n",
    "    self.train_df = train_df\n",
    "    self.val_df = val_df\n",
    "    self.test_df = test_df\n",
    "\n",
    "    # Work out the label column indices.\n",
    "    self.label_columns = label_columns\n",
    "    if label_columns is not None:\n",
    "      self.label_columns_indices = {name: i for i, name in\n",
    "                                    enumerate(label_columns)}\n",
    "    self.column_indices = {name: i for i, name in\n",
    "                           enumerate(train_df.columns)}\n",
    "\n",
    "    # Work out the window parameters.\n",
    "    self.input_width = input_width\n",
    "    self.label_width = label_width\n",
    "    self.shift = shift\n",
    "\n",
    "    self.total_window_size = input_width + shift\n",
    "\n",
    "    self.input_slice = slice(0, input_width)\n",
    "    self.input_indices = np.arange(self.total_window_size)[self.input_slice]\n",
    "\n",
    "    self.label_start = self.total_window_size - self.label_width\n",
    "    self.labels_slice = slice(self.label_start, None)\n",
    "    self.label_indices = np.arange(self.total_window_size)[self.labels_slice]\n",
    "\n",
    "  def __repr__(self):\n",
    "    return '\\n'.join([\n",
    "        f'Total window size: {self.total_window_size}',\n",
    "        f'Input indices: {self.input_indices}',\n",
    "        f'Label indices: {self.label_indices}',\n",
    "        f'Label column name(s): {self.label_columns}'])\n",
    "\n",
    "  def split_window(self, features):\n",
    "    inputs = features[:, self.input_slice, :]\n",
    "    labels = features[:, self.labels_slice, :]\n",
    "    if self.label_columns is not None:\n",
    "      labels = tf.stack(\n",
    "          [labels[:, :, self.column_indices[name]] for name in self.label_columns],\n",
    "          axis=-1)\n",
    "  \n",
    "    # Slicing doesn't preserve static shape information, so set the shapes\n",
    "    # manually. This way the `tf.data.Datasets` are easier to inspect.\n",
    "    inputs.set_shape([None, self.input_width, None])\n",
    "    labels.set_shape([None, self.label_width, None])\n",
    "  \n",
    "    return inputs, labels\n",
    "\n",
    "  def make_dataset(self, data):\n",
    "    data = np.array(data, dtype=np.float32)\n",
    "    ds = tf.keras.preprocessing.timeseries_dataset_from_array(\n",
    "        data=data,\n",
    "        targets=None,\n",
    "        sequence_length=self.total_window_size,\n",
    "        sequence_stride=1,\n",
    "        shuffle=True,\n",
    "        batch_size=2048,)\n",
    "  \n",
    "    ds = ds.map(self.split_window)\n",
    "  \n",
    "    return ds\n",
    "\n",
    "  def plot(self, model=None, plot_col=Ziel, max_subplots=3):\n",
    "    inputs, labels = self.example\n",
    "    plt.figure(figsize=(12, 8))\n",
    "    plot_col_index = self.column_indices[plot_col]\n",
    "    max_n = min(max_subplots, len(inputs))\n",
    "    for n in range(max_n):\n",
    "      plt.subplot(3, 1, n+1)\n",
    "      plt.ylabel(f'{plot_col} [normed]')\n",
    "      plt.plot(self.input_indices, inputs[n, :, plot_col_index],\n",
    "               label='Inputs', marker='.', zorder=-10)\n",
    "  \n",
    "      if self.label_columns:\n",
    "        label_col_index = self.label_columns_indices.get(plot_col, None)\n",
    "      else:\n",
    "        label_col_index = plot_col_index\n",
    "  \n",
    "      if label_col_index is None:\n",
    "        continue\n",
    "  \n",
    "      plt.scatter(self.label_indices, labels[n, :, label_col_index],\n",
    "                  edgecolors='k', label='Labels', c='#2ca02c', s=64)\n",
    "      if model is not None:\n",
    "        predictions = model(inputs)\n",
    "        plt.scatter(self.label_indices, predictions[n, :, label_col_index],\n",
    "                    marker='X', edgecolors='k', label='Predictions',\n",
    "                    c='#ff7f0e', s=64)\n",
    "  \n",
    "      if n == 0:\n",
    "        plt.legend()\n",
    "  \n",
    "    plt.xlabel(Ziel)\n"
   ]
  },
  {
   "cell_type": "markdown",
   "metadata": {},
   "source": [
    "## Plot train vs. val\n",
    "\n",
    "Um den Verlauf des Trainings bewerten zu können (Überanpassung, etc.)"
   ]
  },
  {
   "cell_type": "code",
   "execution_count": 45,
   "metadata": {},
   "outputs": [],
   "source": [
    "def plot_train_val(history):\n",
    "    loss = history.history['loss']\n",
    "    val_loss = history.history['val_loss']\n",
    "    epochs = range(1, len(loss)+1)\n",
    "    plt.figure()\n",
    "    plt.plot(epochs, loss, 'bo', label='Verlust Training')\n",
    "    plt.plot(epochs, val_loss, 'b', label='Verlust Validierung')\n",
    "    plt.title('Wert der Verlustfunktion Training/Validierung')\n",
    "    plt.legend()\n",
    "    plt.show()"
   ]
  },
  {
   "cell_type": "markdown",
   "metadata": {
    "id": "OMZTYIj3bYLg"
   },
   "source": [
    "## Funktion zum trainieren der Modelle\n",
    "Mit Callback: Training hört bei Überanpassung oder nicht-konvergieren automatisch früher auf"
   ]
  },
  {
   "cell_type": "code",
   "execution_count": 46,
   "metadata": {
    "id": "CbCL6VIrk-Gt"
   },
   "outputs": [],
   "source": [
    "MAX_EPOCHS = 50\n",
    "\n",
    "def compile_and_fit(model, window, patience=2):\n",
    "  early_stopping = tf.keras.callbacks.EarlyStopping(monitor='val_loss',\n",
    "                                                    patience=patience,\n",
    "                                                    mode='min')\n",
    "\n",
    "  model.compile(loss=tf.losses.MeanSquaredError(),\n",
    "                optimizer=tf.optimizers.Adam(),\n",
    "                metrics=[tf.metrics.MeanAbsoluteError()])\n",
    "\n",
    "  history = model.fit(window.train, epochs=MAX_EPOCHS,\n",
    "                      validation_data=window.val,\n",
    "                      callbacks=[early_stopping])\n",
    "  return history"
   ]
  },
  {
   "cell_type": "markdown",
   "metadata": {},
   "source": [
    "# Modelle"
   ]
  },
  {
   "cell_type": "markdown",
   "metadata": {},
   "source": [
    "## Modell zur Vorhersage von einem einzelnen Wert innerhalb 24h\n",
    "\n",
    "Für dieses Modell wird ein Fenster erzeugt, dessen input-feature-vektor die Werte aller features für 24h enthält und dessen label (output) bis zu 24h in der Zukunft liegt und nur den pm10 durchschnitt enthält.\n",
    "\n",
    "Vorhersage ist damit der vermutete durchschnittliche pm10 Wert von Graz."
   ]
  },
  {
   "cell_type": "markdown",
   "metadata": {},
   "source": [
    "## Vergleichsmodell"
   ]
  },
  {
   "cell_type": "code",
   "execution_count": 47,
   "metadata": {},
   "outputs": [],
   "source": [
    "eingabe_window = WindowGenerator(\n",
    "    input_width=48, label_width=1, shift=2*Stunden,\n",
    "    label_columns=[Ziel])"
   ]
  },
  {
   "cell_type": "code",
   "execution_count": 48,
   "metadata": {},
   "outputs": [],
   "source": [
    "val_performance = {}"
   ]
  },
  {
   "cell_type": "code",
   "execution_count": null,
   "metadata": {},
   "outputs": [],
   "source": []
  },
  {
   "cell_type": "markdown",
   "metadata": {},
   "source": [
    "Kleinere und größere Modelle, jeweils mit mehr oder weniger features wurden getestet, ohne deutliche Unterschiede in der Vorhersage"
   ]
  },
  {
   "cell_type": "code",
   "execution_count": 49,
   "metadata": {},
   "outputs": [],
   "source": [
    "class Baseline(tf.keras.Model):\n",
    "  def __init__(self, label_index=None):\n",
    "    super().__init__()\n",
    "    self.label_index = label_index\n",
    "\n",
    "  def call(self, inputs):\n",
    "    if self.label_index is None:\n",
    "      return inputs\n",
    "    result = inputs[:, :, self.label_index]\n",
    "    return result[:, :, tf.newaxis]"
   ]
  },
  {
   "cell_type": "code",
   "execution_count": 50,
   "metadata": {},
   "outputs": [
    {
     "name": "stdout",
     "output_type": "stream",
     "text": [
      "9/9 [==============================] - 0s 17ms/step - loss: 0.5696 - mean_absolute_error: 0.5139\n"
     ]
    }
   ],
   "source": [
    "baseline = Baseline(label_index=column_indices[Ziel])\n",
    "\n",
    "baseline.compile(loss=tf.losses.MeanSquaredError(),\n",
    "                 metrics=[tf.metrics.MeanAbsoluteError()])\n",
    "\n",
    "\n",
    "val_performance['vergleich_' + Ziel + \"_\"+ str(Stunden) + 'h'] = baseline.evaluate(eingabe_window.val)\n"
   ]
  },
  {
   "cell_type": "markdown",
   "metadata": {},
   "source": [
    "## Lstm mit 32 ohne drop-out"
   ]
  },
  {
   "cell_type": "code",
   "execution_count": 51,
   "metadata": {},
   "outputs": [],
   "source": [
    "lstm_32_odo = tf.keras.models.Sequential([\n",
    "    tf.keras.layers.LSTM(32), #, return_sequences=True ), tf.keras.layers.LSTM(16),\n",
    "    tf.keras.layers.Dense(units=1)\n",
    "])"
   ]
  },
  {
   "cell_type": "code",
   "execution_count": 52,
   "metadata": {},
   "outputs": [
    {
     "name": "stdout",
     "output_type": "stream",
     "text": [
      "9/9 [==============================] - 1s 106ms/step - loss: 0.3202 - mean_absolute_error: 0.3940\n"
     ]
    }
   ],
   "source": [
    "history_lstm_32_odo = compile_and_fit(lstm_32_odo, eingabe_window, patience=5)\n",
    "\n",
    "IPython.display.clear_output()\n",
    "val_performance['lstm_32_odo_' + Ziel + \"_\"+ str(Stunden) + 'h'] = lstm_32_odo.evaluate(eingabe_window.val)"
   ]
  },
  {
   "cell_type": "code",
   "execution_count": 53,
   "metadata": {},
   "outputs": [
    {
     "data": {
      "image/png": "[encoded data removed]",
      "text/plain": [
       "<Figure size 576x432 with 1 Axes>"
      ]
     },
     "metadata": {
      "needs_background": "light"
     },
     "output_type": "display_data"
    }
   ],
   "source": [
    "plot_train_val(history_lstm_32_odo)"
   ]
  },
  {
   "cell_type": "markdown",
   "metadata": {},
   "source": [
    "## Lstm mit 64 ohne drop-out"
   ]
  },
  {
   "cell_type": "code",
   "execution_count": 54,
   "metadata": {},
   "outputs": [],
   "source": [
    "lstm_64_odo = tf.keras.models.Sequential([\n",
    "    tf.keras.layers.LSTM(64), #, return_sequences=True ), tf.keras.layers.LSTM(16),\n",
    "    tf.keras.layers.Dense(units=1)\n",
    "])"
   ]
  },
  {
   "cell_type": "code",
   "execution_count": 55,
   "metadata": {},
   "outputs": [
    {
     "name": "stdout",
     "output_type": "stream",
     "text": [
      "9/9 [==============================] - 2s 258ms/step - loss: 0.3241 - mean_absolute_error: 0.3917\n"
     ]
    }
   ],
   "source": [
    "history_lstm_64_odo = compile_and_fit(lstm_64_odo, eingabe_window, patience=5)\n",
    "\n",
    "IPython.display.clear_output()\n",
    "val_performance['lstm_64_odo_' + Ziel + \"_\"+ str(Stunden) + 'h'] = lstm_64_odo.evaluate(eingabe_window.val)"
   ]
  },
  {
   "cell_type": "code",
   "execution_count": 56,
   "metadata": {},
   "outputs": [
    {
     "data": {
      "image/png": "[encoded data removed]",
      "text/plain": [
       "<Figure size 576x432 with 1 Axes>"
      ]
     },
     "metadata": {
      "needs_background": "light"
     },
     "output_type": "display_data"
    }
   ],
   "source": [
    "plot_train_val(history_lstm_64_odo)"
   ]
  },
  {
   "cell_type": "markdown",
   "metadata": {},
   "source": [
    "## Lstm mit 32 + 16 ohne drop-out"
   ]
  },
  {
   "cell_type": "code",
   "execution_count": 57,
   "metadata": {},
   "outputs": [],
   "source": [
    "lstm_32_16_odo = tf.keras.models.Sequential([\n",
    "    tf.keras.layers.LSTM(32, return_sequences=True ), \n",
    "    tf.keras.layers.LSTM(16),\n",
    "    tf.keras.layers.Dense(units=1)\n",
    "])"
   ]
  },
  {
   "cell_type": "code",
   "execution_count": 58,
   "metadata": {},
   "outputs": [
    {
     "name": "stdout",
     "output_type": "stream",
     "text": [
      "9/9 [==============================] - 2s 236ms/step - loss: 0.2951 - mean_absolute_error: 0.3707\n"
     ]
    }
   ],
   "source": [
    "history_lstm_32_16_odo = compile_and_fit(lstm_32_16_odo, eingabe_window, patience=5)\n",
    "\n",
    "IPython.display.clear_output()\n",
    "val_performance['lstm_32+16_odo_' + Ziel + \"_\" + str(Stunden) + 'h'] = lstm_32_16_odo.evaluate(eingabe_window.val)"
   ]
  },
  {
   "cell_type": "code",
   "execution_count": 59,
   "metadata": {},
   "outputs": [
    {
     "data": {
      "image/png": "[encoded data removed]",
      "text/plain": [
       "<Figure size 576x432 with 1 Axes>"
      ]
     },
     "metadata": {
      "needs_background": "light"
     },
     "output_type": "display_data"
    }
   ],
   "source": [
    "plot_train_val(history_lstm_32_16_odo)"
   ]
  },
  {
   "cell_type": "code",
   "execution_count": 60,
   "metadata": {},
   "outputs": [
    {
     "name": "stdout",
     "output_type": "stream",
     "text": [
      "[]\n",
      "vergleich_Graz-S_6h: 0.5139\n",
      "lstm_32_odo_Graz-S_6h: 0.3940\n",
      "lstm_64_odo_Graz-S_6h: 0.3917\n",
      "lstm_32+16_odo_Graz-S_6h: 0.3707\n"
     ]
    }
   ],
   "source": [
    "print(Features)\n",
    "for name, value in val_performance.items():\n",
    "  print(f'{name:3}: {value[1]:0.4f}')"
   ]
  },
  {
   "cell_type": "code",
   "execution_count": null,
   "metadata": {},
   "outputs": [],
   "source": []
  },
  {
   "cell_type": "code",
   "execution_count": null,
   "metadata": {},
   "outputs": [],
   "source": []
  }
 ],
 "metadata": {
  "accelerator": "GPU",
  "colab": {
   "collapsed_sections": [],
   "name": "time_series.ipynb",
   "toc_visible": true
  },
  "kernelspec": {
   "display_name": "Python 3",
   "language": "python",
   "name": "python3"
  },
  "language_info": {
   "codemirror_mode": {
    "name": "ipython",
    "version": 3
   },
   "file_extension": ".py",
   "mimetype": "text/x-python",
   "name": "python",
   "nbconvert_exporter": "python",
   "pygments_lexer": "ipython3",
   "version": "3.8.5"
  },
  "toc-autonumbering": true
 },
 "nbformat": 4,
 "nbformat_minor": 4
}
